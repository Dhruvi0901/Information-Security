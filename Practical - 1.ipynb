{
  "nbformat": 4,
  "nbformat_minor": 0,
  "metadata": {
    "colab": {
      "name": "Untitled0.ipynb",
      "provenance": [],
      "authorship_tag": "ABX9TyPVJXvbfC9hzt5I+AfGr1Bz",
      "include_colab_link": true
    },
    "kernelspec": {
      "name": "python3",
      "display_name": "Python 3"
    },
    "language_info": {
      "name": "python"
    }
  },
  "cells": [
    {
      "cell_type": "markdown",
      "metadata": {
        "id": "view-in-github",
        "colab_type": "text"
      },
      "source": [
        "<a href=\"https://colab.research.google.com/github/Dhruvi0901/Information-Security/blob/main/Practical%20-%201.ipynb\" target=\"_parent\"><img src=\"https://colab.research.google.com/assets/colab-badge.svg\" alt=\"Open In Colab\"/></a>"
      ]
    },
    {
      "cell_type": "code",
      "metadata": {
        "colab": {
          "base_uri": "https://localhost:8080/"
        },
        "id": "6v8Kl4Y_Tm-I",
        "outputId": "96c2a140-5568-4bc3-d7ec-1b34bb18b08d"
      },
      "source": [
        "def encryption(plain, key):\n",
        " \n",
        "  cipher = ''\n",
        "  for char in plain:\n",
        "    if char == ' ':\n",
        "      cipher = cipher + char\n",
        "    elif  char.isupper():\n",
        "      cipher = cipher + chr((ord(char) + key - 65) % 26 + 65)\n",
        "    else:\n",
        "      cipher = cipher + chr((ord(char) + key - 97) % 26 + 97)\n",
        "  \n",
        "  return cipher\n",
        "\n",
        "def decryption(cipher, key):\n",
        " \n",
        "  plain = ''\n",
        "  for i in cipher:\n",
        "    if i == ' ':\n",
        "      plain = plain + i\n",
        "    elif  i.isupper():\n",
        "      plain = plain + chr((ord(i) + key + 65) % 26 + 65)\n",
        "    else:\n",
        "      plain = plain + chr((ord(i) + key + 97) % 26 + 97)\n",
        "  \n",
        "  return cipher\n",
        " \n",
        "text = input(\"enter string: \")\n",
        "key = int(input(\"enter key number: \"))\n",
        "print(\"original string: \", text)\n",
        "print(\"after encryption: \", encryption(text, key))\n",
        "print(\"after decryption: \", decryption(text, key))\n",
        "\n",
        "\n",
        "\n"
      ],
      "execution_count": 1,
      "outputs": [
        {
          "output_type": "stream",
          "text": [
            "enter string: abcd\n",
            "enter key number: 2\n",
            "original string:  abcd\n",
            "after encryption:  cdef\n",
            "after decryption:  abcd\n"
          ],
          "name": "stdout"
        }
      ]
    }
  ]
}